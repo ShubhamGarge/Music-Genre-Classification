{
 "cells": [
  {
   "cell_type": "code",
   "execution_count": 46,
   "id": "894df061",
   "metadata": {},
   "outputs": [],
   "source": [
    "import pandas as pd\n",
    "import numpy as np\n",
    "import os\n",
    "import IPython.display as ipd\n",
    "import librosa   #for audio dataset analysis\n",
    "#import librosa.display\n",
    "import matplotlib.pyplot as plt\n",
    "%matplotlib inline"
   ]
  },
  {
   "cell_type": "code",
   "execution_count": 47,
   "id": "80938faa",
   "metadata": {},
   "outputs": [],
   "source": [
    "audio_dataset_path = 'Data/genres_original'\n",
    "df = pd.read_csv(\"Data/features_30_sec.csv\")"
   ]
  },
  {
   "cell_type": "code",
   "execution_count": 48,
   "id": "e88e08db",
   "metadata": {},
   "outputs": [
    {
     "data": {
      "text/html": [
       "<div>\n",
       "<style scoped>\n",
       "    .dataframe tbody tr th:only-of-type {\n",
       "        vertical-align: middle;\n",
       "    }\n",
       "\n",
       "    .dataframe tbody tr th {\n",
       "        vertical-align: top;\n",
       "    }\n",
       "\n",
       "    .dataframe thead th {\n",
       "        text-align: right;\n",
       "    }\n",
       "</style>\n",
       "<table border=\"1\" class=\"dataframe\">\n",
       "  <thead>\n",
       "    <tr style=\"text-align: right;\">\n",
       "      <th></th>\n",
       "      <th>filename</th>\n",
       "      <th>length</th>\n",
       "      <th>chroma_stft_mean</th>\n",
       "      <th>chroma_stft_var</th>\n",
       "      <th>rms_mean</th>\n",
       "      <th>rms_var</th>\n",
       "      <th>spectral_centroid_mean</th>\n",
       "      <th>spectral_centroid_var</th>\n",
       "      <th>spectral_bandwidth_mean</th>\n",
       "      <th>spectral_bandwidth_var</th>\n",
       "      <th>...</th>\n",
       "      <th>mfcc16_var</th>\n",
       "      <th>mfcc17_mean</th>\n",
       "      <th>mfcc17_var</th>\n",
       "      <th>mfcc18_mean</th>\n",
       "      <th>mfcc18_var</th>\n",
       "      <th>mfcc19_mean</th>\n",
       "      <th>mfcc19_var</th>\n",
       "      <th>mfcc20_mean</th>\n",
       "      <th>mfcc20_var</th>\n",
       "      <th>label</th>\n",
       "    </tr>\n",
       "  </thead>\n",
       "  <tbody>\n",
       "    <tr>\n",
       "      <th>0</th>\n",
       "      <td>blues.00000.wav</td>\n",
       "      <td>661794</td>\n",
       "      <td>0.350088</td>\n",
       "      <td>0.088757</td>\n",
       "      <td>0.130228</td>\n",
       "      <td>0.002827</td>\n",
       "      <td>1784.165850</td>\n",
       "      <td>129774.064525</td>\n",
       "      <td>2002.449060</td>\n",
       "      <td>85882.761315</td>\n",
       "      <td>...</td>\n",
       "      <td>52.420910</td>\n",
       "      <td>-1.690215</td>\n",
       "      <td>36.524071</td>\n",
       "      <td>-0.408979</td>\n",
       "      <td>41.597103</td>\n",
       "      <td>-2.303523</td>\n",
       "      <td>55.062923</td>\n",
       "      <td>1.221291</td>\n",
       "      <td>46.936035</td>\n",
       "      <td>blues</td>\n",
       "    </tr>\n",
       "    <tr>\n",
       "      <th>1</th>\n",
       "      <td>blues.00001.wav</td>\n",
       "      <td>661794</td>\n",
       "      <td>0.340914</td>\n",
       "      <td>0.094980</td>\n",
       "      <td>0.095948</td>\n",
       "      <td>0.002373</td>\n",
       "      <td>1530.176679</td>\n",
       "      <td>375850.073649</td>\n",
       "      <td>2039.036516</td>\n",
       "      <td>213843.755497</td>\n",
       "      <td>...</td>\n",
       "      <td>55.356403</td>\n",
       "      <td>-0.731125</td>\n",
       "      <td>60.314529</td>\n",
       "      <td>0.295073</td>\n",
       "      <td>48.120598</td>\n",
       "      <td>-0.283518</td>\n",
       "      <td>51.106190</td>\n",
       "      <td>0.531217</td>\n",
       "      <td>45.786282</td>\n",
       "      <td>blues</td>\n",
       "    </tr>\n",
       "    <tr>\n",
       "      <th>2</th>\n",
       "      <td>blues.00002.wav</td>\n",
       "      <td>661794</td>\n",
       "      <td>0.363637</td>\n",
       "      <td>0.085275</td>\n",
       "      <td>0.175570</td>\n",
       "      <td>0.002746</td>\n",
       "      <td>1552.811865</td>\n",
       "      <td>156467.643368</td>\n",
       "      <td>1747.702312</td>\n",
       "      <td>76254.192257</td>\n",
       "      <td>...</td>\n",
       "      <td>40.598766</td>\n",
       "      <td>-7.729093</td>\n",
       "      <td>47.639427</td>\n",
       "      <td>-1.816407</td>\n",
       "      <td>52.382141</td>\n",
       "      <td>-3.439720</td>\n",
       "      <td>46.639660</td>\n",
       "      <td>-2.231258</td>\n",
       "      <td>30.573025</td>\n",
       "      <td>blues</td>\n",
       "    </tr>\n",
       "    <tr>\n",
       "      <th>3</th>\n",
       "      <td>blues.00003.wav</td>\n",
       "      <td>661794</td>\n",
       "      <td>0.404785</td>\n",
       "      <td>0.093999</td>\n",
       "      <td>0.141093</td>\n",
       "      <td>0.006346</td>\n",
       "      <td>1070.106615</td>\n",
       "      <td>184355.942417</td>\n",
       "      <td>1596.412872</td>\n",
       "      <td>166441.494769</td>\n",
       "      <td>...</td>\n",
       "      <td>44.427753</td>\n",
       "      <td>-3.319597</td>\n",
       "      <td>50.206673</td>\n",
       "      <td>0.636965</td>\n",
       "      <td>37.319130</td>\n",
       "      <td>-0.619121</td>\n",
       "      <td>37.259739</td>\n",
       "      <td>-3.407448</td>\n",
       "      <td>31.949339</td>\n",
       "      <td>blues</td>\n",
       "    </tr>\n",
       "    <tr>\n",
       "      <th>4</th>\n",
       "      <td>blues.00004.wav</td>\n",
       "      <td>661794</td>\n",
       "      <td>0.308526</td>\n",
       "      <td>0.087841</td>\n",
       "      <td>0.091529</td>\n",
       "      <td>0.002303</td>\n",
       "      <td>1835.004266</td>\n",
       "      <td>343399.939274</td>\n",
       "      <td>1748.172116</td>\n",
       "      <td>88445.209036</td>\n",
       "      <td>...</td>\n",
       "      <td>86.099236</td>\n",
       "      <td>-5.454034</td>\n",
       "      <td>75.269707</td>\n",
       "      <td>-0.916874</td>\n",
       "      <td>53.613918</td>\n",
       "      <td>-4.404827</td>\n",
       "      <td>62.910812</td>\n",
       "      <td>-11.703234</td>\n",
       "      <td>55.195160</td>\n",
       "      <td>blues</td>\n",
       "    </tr>\n",
       "  </tbody>\n",
       "</table>\n",
       "<p>5 rows × 60 columns</p>\n",
       "</div>"
      ],
      "text/plain": [
       "          filename  length  chroma_stft_mean  chroma_stft_var  rms_mean  \\\n",
       "0  blues.00000.wav  661794          0.350088         0.088757  0.130228   \n",
       "1  blues.00001.wav  661794          0.340914         0.094980  0.095948   \n",
       "2  blues.00002.wav  661794          0.363637         0.085275  0.175570   \n",
       "3  blues.00003.wav  661794          0.404785         0.093999  0.141093   \n",
       "4  blues.00004.wav  661794          0.308526         0.087841  0.091529   \n",
       "\n",
       "    rms_var  spectral_centroid_mean  spectral_centroid_var  \\\n",
       "0  0.002827             1784.165850          129774.064525   \n",
       "1  0.002373             1530.176679          375850.073649   \n",
       "2  0.002746             1552.811865          156467.643368   \n",
       "3  0.006346             1070.106615          184355.942417   \n",
       "4  0.002303             1835.004266          343399.939274   \n",
       "\n",
       "   spectral_bandwidth_mean  spectral_bandwidth_var  ...  mfcc16_var  \\\n",
       "0              2002.449060            85882.761315  ...   52.420910   \n",
       "1              2039.036516           213843.755497  ...   55.356403   \n",
       "2              1747.702312            76254.192257  ...   40.598766   \n",
       "3              1596.412872           166441.494769  ...   44.427753   \n",
       "4              1748.172116            88445.209036  ...   86.099236   \n",
       "\n",
       "   mfcc17_mean  mfcc17_var  mfcc18_mean  mfcc18_var  mfcc19_mean  mfcc19_var  \\\n",
       "0    -1.690215   36.524071    -0.408979   41.597103    -2.303523   55.062923   \n",
       "1    -0.731125   60.314529     0.295073   48.120598    -0.283518   51.106190   \n",
       "2    -7.729093   47.639427    -1.816407   52.382141    -3.439720   46.639660   \n",
       "3    -3.319597   50.206673     0.636965   37.319130    -0.619121   37.259739   \n",
       "4    -5.454034   75.269707    -0.916874   53.613918    -4.404827   62.910812   \n",
       "\n",
       "   mfcc20_mean  mfcc20_var  label  \n",
       "0     1.221291   46.936035  blues  \n",
       "1     0.531217   45.786282  blues  \n",
       "2    -2.231258   30.573025  blues  \n",
       "3    -3.407448   31.949339  blues  \n",
       "4   -11.703234   55.195160  blues  \n",
       "\n",
       "[5 rows x 60 columns]"
      ]
     },
     "execution_count": 48,
     "metadata": {},
     "output_type": "execute_result"
    }
   ],
   "source": [
    "df.head()"
   ]
  },
  {
   "cell_type": "code",
   "execution_count": 49,
   "id": "05d19f2a",
   "metadata": {},
   "outputs": [],
   "source": [
    "def features_extractor(file):\n",
    "    audio, sample_rate = librosa.load(file_name, res_type = 'kaiser_fast')  #return normalise audio and sample raate\n",
    "    mfccs_features = librosa.feature.mfcc(y = audio, sr = sample_rate, n_mfcc = 40)  #returns 40 features which have highest information\n",
    "    mfccs_scaled_features = np.mean(mfccs_features.T, axis = 0)  #scaling down values\n",
    "    \n",
    "    return mfccs_scaled_features"
   ]
  },
  {
   "cell_type": "code",
   "execution_count": 50,
   "id": "aeb0fe6b",
   "metadata": {},
   "outputs": [
    {
     "name": "stderr",
     "output_type": "stream",
     "text": [
      "553it [00:36, 13.76it/s]C:\\Users\\SHUBHAM GARGE\\AppData\\Roaming\\Python\\Python39\\site-packages\\librosa\\util\\decorators.py:88: UserWarning: PySoundFile failed. Trying audioread instead.\n",
      "  return f(*args, **kwargs)\n",
      "557it [00:36, 14.33it/s]"
     ]
    },
    {
     "name": "stdout",
     "output_type": "stream",
     "text": [
      "Error: \n"
     ]
    },
    {
     "name": "stderr",
     "output_type": "stream",
     "text": [
      "1000it [01:09, 14.39it/s]\n"
     ]
    }
   ],
   "source": [
    "from tqdm import tqdm   #iterator function\n",
    "# Now we iterate through every audio file and extract features\n",
    "# using Mel Frequency Cepstral coefficients\n",
    "\n",
    "extracted_features = []\n",
    "for index_num, row in tqdm(df.iterrows()):   #traversing rowwise in dataset and assigning labels of the following genre\n",
    "    try:\n",
    "        final_class_labels = row[\"label\"]\n",
    "        file_name = os.path.join(os.path.abspath(audio_dataset_path), final_class_labels+'/', str(row[\"filename\"]))\n",
    "        data = features_extractor(file_name)\n",
    "        extracted_features.append([data, final_class_labels])\n",
    "    except Exception as e:\n",
    "        print( f\"Error: {e}\")\n",
    "        continue;\n"
   ]
  },
  {
   "cell_type": "code",
   "execution_count": 51,
   "id": "be4a68a5",
   "metadata": {},
   "outputs": [
    {
     "data": {
      "text/html": [
       "<div>\n",
       "<style scoped>\n",
       "    .dataframe tbody tr th:only-of-type {\n",
       "        vertical-align: middle;\n",
       "    }\n",
       "\n",
       "    .dataframe tbody tr th {\n",
       "        vertical-align: top;\n",
       "    }\n",
       "\n",
       "    .dataframe thead th {\n",
       "        text-align: right;\n",
       "    }\n",
       "</style>\n",
       "<table border=\"1\" class=\"dataframe\">\n",
       "  <thead>\n",
       "    <tr style=\"text-align: right;\">\n",
       "      <th></th>\n",
       "      <th>feature</th>\n",
       "      <th>class</th>\n",
       "    </tr>\n",
       "  </thead>\n",
       "  <tbody>\n",
       "    <tr>\n",
       "      <th>0</th>\n",
       "      <td>[-113.59882, 121.57067, -19.162262, 42.36394, ...</td>\n",
       "      <td>blues</td>\n",
       "    </tr>\n",
       "    <tr>\n",
       "      <th>1</th>\n",
       "      <td>[-207.52383, 123.98514, 8.947019, 35.86715, 2....</td>\n",
       "      <td>blues</td>\n",
       "    </tr>\n",
       "    <tr>\n",
       "      <th>2</th>\n",
       "      <td>[-90.757164, 140.44087, -29.084547, 31.686691,...</td>\n",
       "      <td>blues</td>\n",
       "    </tr>\n",
       "    <tr>\n",
       "      <th>3</th>\n",
       "      <td>[-199.57513, 150.0861, 5.663404, 26.855282, 1....</td>\n",
       "      <td>blues</td>\n",
       "    </tr>\n",
       "    <tr>\n",
       "      <th>4</th>\n",
       "      <td>[-160.35417, 126.20948, -35.581394, 22.139256,...</td>\n",
       "      <td>blues</td>\n",
       "    </tr>\n",
       "  </tbody>\n",
       "</table>\n",
       "</div>"
      ],
      "text/plain": [
       "                                             feature  class\n",
       "0  [-113.59882, 121.57067, -19.162262, 42.36394, ...  blues\n",
       "1  [-207.52383, 123.98514, 8.947019, 35.86715, 2....  blues\n",
       "2  [-90.757164, 140.44087, -29.084547, 31.686691,...  blues\n",
       "3  [-199.57513, 150.0861, 5.663404, 26.855282, 1....  blues\n",
       "4  [-160.35417, 126.20948, -35.581394, 22.139256,...  blues"
      ]
     },
     "execution_count": 51,
     "metadata": {},
     "output_type": "execute_result"
    }
   ],
   "source": [
    "extracted_features_df = pd.DataFrame(extracted_features, columns = [ 'feature', 'class'])  #creating dataframe\n",
    "extracted_features_df.head()"
   ]
  },
  {
   "cell_type": "code",
   "execution_count": 52,
   "id": "0bd42297",
   "metadata": {},
   "outputs": [
    {
     "data": {
      "text/plain": [
       "blues        100\n",
       "classical    100\n",
       "country      100\n",
       "disco        100\n",
       "hiphop       100\n",
       "metal        100\n",
       "pop          100\n",
       "reggae       100\n",
       "rock         100\n",
       "jazz          99\n",
       "Name: class, dtype: int64"
      ]
     },
     "execution_count": 52,
     "metadata": {},
     "output_type": "execute_result"
    }
   ],
   "source": [
    "extracted_features_df['class'].value_counts()"
   ]
  },
  {
   "cell_type": "markdown",
   "id": "06f3740d",
   "metadata": {},
   "source": [
    "#### Splitting dataset into dependent and independent dataset"
   ]
  },
  {
   "cell_type": "code",
   "execution_count": 53,
   "id": "6f395fc9",
   "metadata": {},
   "outputs": [],
   "source": [
    "X = np.array( extracted_features_df['feature'].tolist()) #preparing it to send it into model\n",
    "Y = np.array( extracted_features_df['class'].tolist())"
   ]
  },
  {
   "cell_type": "code",
   "execution_count": 54,
   "id": "7e7fd2d9",
   "metadata": {},
   "outputs": [
    {
     "data": {
      "text/plain": [
       "(999, 40)"
      ]
     },
     "execution_count": 54,
     "metadata": {},
     "output_type": "execute_result"
    }
   ],
   "source": [
    "X.shape"
   ]
  },
  {
   "cell_type": "code",
   "execution_count": 55,
   "id": "aa10bb41",
   "metadata": {},
   "outputs": [],
   "source": [
    "from tensorflow.keras.utils import to_categorical\n",
    "from sklearn.preprocessing import LabelEncoder\n",
    "le = LabelEncoder()\n",
    "Y = to_categorical(le.fit_transform(Y))"
   ]
  },
  {
   "cell_type": "code",
   "execution_count": 56,
   "id": "cb717838",
   "metadata": {},
   "outputs": [
    {
     "data": {
      "text/plain": [
       "(999, 10)"
      ]
     },
     "execution_count": 56,
     "metadata": {},
     "output_type": "execute_result"
    }
   ],
   "source": [
    "Y.shape"
   ]
  },
  {
   "cell_type": "code",
   "execution_count": 57,
   "id": "72480c19",
   "metadata": {},
   "outputs": [],
   "source": [
    "from sklearn.model_selection import train_test_split\n",
    "X_train, X_test, Y_train, Y_test = train_test_split(X, Y, test_size = 0.2, random_state = 0)"
   ]
  },
  {
   "cell_type": "code",
   "execution_count": 58,
   "id": "b81c0fd3",
   "metadata": {},
   "outputs": [
    {
     "data": {
      "text/plain": [
       "array([[ 2.6653410e+01,  7.9789711e+01, -5.2055866e+01, ...,\n",
       "        -1.4430333e+00, -1.2734197e+00, -5.9081392e+00],\n",
       "       [-1.4495711e+02,  1.1846496e+02,  2.0525068e+01, ...,\n",
       "         1.8998559e+00, -1.8821739e+00, -1.8517891e+00],\n",
       "       [-6.6108925e+01,  9.7883812e+01, -1.8831675e+01, ...,\n",
       "        -1.2424636e+00, -6.3691193e-01, -1.3383397e+00],\n",
       "       ...,\n",
       "       [-7.7426697e+01,  1.3087869e+02, -2.3275221e+01, ...,\n",
       "        -4.2062173e+00, -3.5183537e+00,  2.6050329e+00],\n",
       "       [-1.9040649e+02,  1.2951292e+02, -7.8296251e+00, ...,\n",
       "        -2.2419317e+00, -3.9879441e+00, -1.9877437e+00],\n",
       "       [-4.6609550e+01,  8.6802017e+01, -3.4776672e+01, ...,\n",
       "         1.4676020e-01,  9.2151529e-01, -8.7239444e-01]], dtype=float32)"
      ]
     },
     "execution_count": 58,
     "metadata": {},
     "output_type": "execute_result"
    }
   ],
   "source": [
    "X_train"
   ]
  },
  {
   "cell_type": "code",
   "execution_count": 59,
   "id": "87d14f34",
   "metadata": {},
   "outputs": [
    {
     "name": "stdout",
     "output_type": "stream",
     "text": [
      "(799, 40) (200, 40) (799, 10) (200, 10)\n"
     ]
    }
   ],
   "source": [
    "print( str(X_train.shape) + \" \" + str(X_test.shape) + \" \" +  str(Y_train.shape) + \" \" + str(Y_test.shape))"
   ]
  },
  {
   "cell_type": "code",
   "execution_count": 60,
   "id": "99ac4e7c",
   "metadata": {},
   "outputs": [],
   "source": [
    "from tensorflow.keras.models import Sequential\n",
    "from tensorflow.keras.layers import Dense, Dropout, Activation, Flatten\n",
    "from tensorflow.keras.optimizers import Adam\n",
    "from sklearn import metrics"
   ]
  },
  {
   "cell_type": "code",
   "execution_count": 61,
   "id": "86342056",
   "metadata": {},
   "outputs": [],
   "source": [
    "num_labels = Y.shape[1]"
   ]
  },
  {
   "cell_type": "code",
   "execution_count": 62,
   "id": "fa80f5e7",
   "metadata": {},
   "outputs": [],
   "source": [
    "model = Sequential()   #creating nureal network\n",
    "model.add(Dense(1024, input_shape = (40,), activation = 'relu') )\n",
    "model.add(Dropout(0.3))\n",
    "model.add(Dense(512, activation = 'relu') )\n",
    "model.add(Dropout(0.3))\n",
    "model.add(Dense(256, activation = 'relu') )\n",
    "model.add(Dropout(0.3))\n",
    "model.add(Dense(128, activation = 'relu') )\n",
    "model.add(Dropout(0.3))\n",
    "model.add(Dense(128, activation = 'relu') )\n",
    "model.add(Dropout(0.3))\n",
    "model.add(Dense(512, activation = 'relu') )\n",
    "\n",
    "model.add(Dropout(0.3))\n",
    "\n",
    "\n",
    "#final layer\n",
    "model.add(Dense(num_labels, activation = 'softmax') )\n"
   ]
  },
  {
   "cell_type": "code",
   "execution_count": 63,
   "id": "cfb81abb",
   "metadata": {},
   "outputs": [
    {
     "name": "stdout",
     "output_type": "stream",
     "text": [
      "Model: \"sequential_4\"\n",
      "_________________________________________________________________\n",
      " Layer (type)                Output Shape              Param #   \n",
      "=================================================================\n",
      " dense_33 (Dense)            (None, 1024)              41984     \n",
      "                                                                 \n",
      " dropout_29 (Dropout)        (None, 1024)              0         \n",
      "                                                                 \n",
      " dense_34 (Dense)            (None, 512)               524800    \n",
      "                                                                 \n",
      " dropout_30 (Dropout)        (None, 512)               0         \n",
      "                                                                 \n",
      " dense_35 (Dense)            (None, 256)               131328    \n",
      "                                                                 \n",
      " dropout_31 (Dropout)        (None, 256)               0         \n",
      "                                                                 \n",
      " dense_36 (Dense)            (None, 128)               32896     \n",
      "                                                                 \n",
      " dropout_32 (Dropout)        (None, 128)               0         \n",
      "                                                                 \n",
      " dense_37 (Dense)            (None, 128)               16512     \n",
      "                                                                 \n",
      " dropout_33 (Dropout)        (None, 128)               0         \n",
      "                                                                 \n",
      " dense_38 (Dense)            (None, 512)               66048     \n",
      "                                                                 \n",
      " dropout_34 (Dropout)        (None, 512)               0         \n",
      "                                                                 \n",
      " dense_39 (Dense)            (None, 10)                5130      \n",
      "                                                                 \n",
      "=================================================================\n",
      "Total params: 818,698\n",
      "Trainable params: 818,698\n",
      "Non-trainable params: 0\n",
      "_________________________________________________________________\n"
     ]
    }
   ],
   "source": [
    "model.summary()"
   ]
  },
  {
   "cell_type": "code",
   "execution_count": 64,
   "id": "68772a0b",
   "metadata": {},
   "outputs": [],
   "source": [
    "model.compile(loss = 'categorical_crossentropy', metrics = ['accuracy'], optimizer = 'adam')"
   ]
  },
  {
   "cell_type": "code",
   "execution_count": 65,
   "id": "4724a9cf",
   "metadata": {},
   "outputs": [],
   "source": [
    "import time\n",
    "t = time.localtime()\n",
    "current_time = time.strftime( \"%H:%M:%S:\", t)"
   ]
  },
  {
   "cell_type": "code",
   "execution_count": 66,
   "id": "33a30e42",
   "metadata": {},
   "outputs": [
    {
     "name": "stdout",
     "output_type": "stream",
     "text": [
      "Epoch 1/150\n",
      "25/25 [==============================] - 1s 19ms/step - loss: 3.3010 - accuracy: 0.1026 - val_loss: 2.2751 - val_accuracy: 0.0750\n",
      "Epoch 2/150\n",
      "25/25 [==============================] - 0s 10ms/step - loss: 2.3254 - accuracy: 0.1640 - val_loss: 2.1454 - val_accuracy: 0.2100\n",
      "Epoch 3/150\n",
      "25/25 [==============================] - 0s 11ms/step - loss: 2.2011 - accuracy: 0.2053 - val_loss: 2.0724 - val_accuracy: 0.2350\n",
      "Epoch 4/150\n",
      "25/25 [==============================] - 0s 11ms/step - loss: 2.0903 - accuracy: 0.2290 - val_loss: 2.0101 - val_accuracy: 0.2800\n",
      "Epoch 5/150\n",
      "25/25 [==============================] - 0s 10ms/step - loss: 2.0867 - accuracy: 0.2365 - val_loss: 1.9414 - val_accuracy: 0.2500\n",
      "Epoch 6/150\n",
      "25/25 [==============================] - 0s 10ms/step - loss: 1.9655 - accuracy: 0.2916 - val_loss: 1.8394 - val_accuracy: 0.3300\n",
      "Epoch 7/150\n",
      "25/25 [==============================] - 0s 12ms/step - loss: 1.8694 - accuracy: 0.3041 - val_loss: 1.7662 - val_accuracy: 0.3350\n",
      "Epoch 8/150\n",
      "25/25 [==============================] - 0s 11ms/step - loss: 1.8359 - accuracy: 0.3166 - val_loss: 1.7205 - val_accuracy: 0.3300\n",
      "Epoch 9/150\n",
      "25/25 [==============================] - 0s 11ms/step - loss: 1.7360 - accuracy: 0.3542 - val_loss: 1.7053 - val_accuracy: 0.3750\n",
      "Epoch 10/150\n",
      "25/25 [==============================] - 0s 11ms/step - loss: 1.7415 - accuracy: 0.3354 - val_loss: 1.6846 - val_accuracy: 0.3600\n",
      "Epoch 11/150\n",
      "25/25 [==============================] - 0s 10ms/step - loss: 1.7362 - accuracy: 0.3655 - val_loss: 1.6623 - val_accuracy: 0.3700\n",
      "Epoch 12/150\n",
      "25/25 [==============================] - 0s 11ms/step - loss: 1.6936 - accuracy: 0.3792 - val_loss: 1.6229 - val_accuracy: 0.3600\n",
      "Epoch 13/150\n",
      "25/25 [==============================] - 0s 11ms/step - loss: 1.6652 - accuracy: 0.3742 - val_loss: 1.6112 - val_accuracy: 0.4500\n",
      "Epoch 14/150\n",
      "25/25 [==============================] - 0s 11ms/step - loss: 1.6812 - accuracy: 0.3667 - val_loss: 1.6883 - val_accuracy: 0.3650\n",
      "Epoch 15/150\n",
      "25/25 [==============================] - 0s 10ms/step - loss: 1.6339 - accuracy: 0.3930 - val_loss: 1.6045 - val_accuracy: 0.4100\n",
      "Epoch 16/150\n",
      "25/25 [==============================] - 0s 11ms/step - loss: 1.5729 - accuracy: 0.3955 - val_loss: 1.5371 - val_accuracy: 0.4300\n",
      "Epoch 17/150\n",
      "25/25 [==============================] - 0s 12ms/step - loss: 1.5485 - accuracy: 0.4105 - val_loss: 1.5691 - val_accuracy: 0.4350\n",
      "Epoch 18/150\n",
      "25/25 [==============================] - 0s 12ms/step - loss: 1.5043 - accuracy: 0.4243 - val_loss: 1.5148 - val_accuracy: 0.4550\n",
      "Epoch 19/150\n",
      "25/25 [==============================] - 0s 11ms/step - loss: 1.4900 - accuracy: 0.4481 - val_loss: 1.4701 - val_accuracy: 0.3950\n",
      "Epoch 20/150\n",
      "25/25 [==============================] - 0s 10ms/step - loss: 1.4890 - accuracy: 0.4481 - val_loss: 1.4869 - val_accuracy: 0.4800\n",
      "Epoch 21/150\n",
      "25/25 [==============================] - 0s 11ms/step - loss: 1.4524 - accuracy: 0.4468 - val_loss: 1.4460 - val_accuracy: 0.4550\n",
      "Epoch 22/150\n",
      "25/25 [==============================] - 0s 10ms/step - loss: 1.4577 - accuracy: 0.4593 - val_loss: 1.4779 - val_accuracy: 0.4300\n",
      "Epoch 23/150\n",
      "25/25 [==============================] - 0s 12ms/step - loss: 1.3909 - accuracy: 0.4718 - val_loss: 1.5209 - val_accuracy: 0.4550\n",
      "Epoch 24/150\n",
      "25/25 [==============================] - 0s 11ms/step - loss: 1.3784 - accuracy: 0.4706 - val_loss: 1.5739 - val_accuracy: 0.4350\n",
      "Epoch 25/150\n",
      "25/25 [==============================] - 0s 12ms/step - loss: 1.3762 - accuracy: 0.5081 - val_loss: 1.4370 - val_accuracy: 0.4500\n",
      "Epoch 26/150\n",
      "25/25 [==============================] - 0s 13ms/step - loss: 1.3694 - accuracy: 0.5131 - val_loss: 1.4658 - val_accuracy: 0.4900\n",
      "Epoch 27/150\n",
      "25/25 [==============================] - 0s 12ms/step - loss: 1.2866 - accuracy: 0.5219 - val_loss: 1.4827 - val_accuracy: 0.4900\n",
      "Epoch 28/150\n",
      "25/25 [==============================] - 0s 11ms/step - loss: 1.2449 - accuracy: 0.5407 - val_loss: 1.4425 - val_accuracy: 0.5000\n",
      "Epoch 29/150\n",
      "25/25 [==============================] - 0s 10ms/step - loss: 1.2505 - accuracy: 0.5444 - val_loss: 1.3613 - val_accuracy: 0.5200\n",
      "Epoch 30/150\n",
      "25/25 [==============================] - 0s 11ms/step - loss: 1.2826 - accuracy: 0.5519 - val_loss: 1.3294 - val_accuracy: 0.4950\n",
      "Epoch 31/150\n",
      "25/25 [==============================] - 0s 10ms/step - loss: 1.1894 - accuracy: 0.5620 - val_loss: 1.3054 - val_accuracy: 0.5400\n",
      "Epoch 32/150\n",
      "25/25 [==============================] - 0s 11ms/step - loss: 1.1357 - accuracy: 0.5707 - val_loss: 1.2604 - val_accuracy: 0.5450\n",
      "Epoch 33/150\n",
      "25/25 [==============================] - 0s 11ms/step - loss: 1.1354 - accuracy: 0.5845 - val_loss: 1.3125 - val_accuracy: 0.5550\n",
      "Epoch 34/150\n",
      "25/25 [==============================] - 0s 10ms/step - loss: 1.1143 - accuracy: 0.5945 - val_loss: 1.3583 - val_accuracy: 0.5300\n",
      "Epoch 35/150\n",
      "25/25 [==============================] - 0s 11ms/step - loss: 1.1166 - accuracy: 0.5782 - val_loss: 1.3833 - val_accuracy: 0.5600\n",
      "Epoch 36/150\n",
      "25/25 [==============================] - 0s 11ms/step - loss: 1.1740 - accuracy: 0.5945 - val_loss: 1.3554 - val_accuracy: 0.5500\n",
      "Epoch 37/150\n",
      "25/25 [==============================] - 0s 10ms/step - loss: 1.0321 - accuracy: 0.6108 - val_loss: 1.2433 - val_accuracy: 0.5750\n",
      "Epoch 38/150\n",
      "25/25 [==============================] - 0s 10ms/step - loss: 1.0210 - accuracy: 0.6395 - val_loss: 1.2359 - val_accuracy: 0.5500\n",
      "Epoch 39/150\n",
      "25/25 [==============================] - 0s 12ms/step - loss: 1.0061 - accuracy: 0.6558 - val_loss: 1.2925 - val_accuracy: 0.5850\n",
      "Epoch 40/150\n",
      "25/25 [==============================] - 0s 12ms/step - loss: 1.0066 - accuracy: 0.6521 - val_loss: 1.1757 - val_accuracy: 0.5850\n",
      "Epoch 41/150\n",
      "25/25 [==============================] - 0s 11ms/step - loss: 0.9397 - accuracy: 0.6583 - val_loss: 1.2073 - val_accuracy: 0.5600\n",
      "Epoch 42/150\n",
      "25/25 [==============================] - 0s 10ms/step - loss: 0.8920 - accuracy: 0.6783 - val_loss: 1.2286 - val_accuracy: 0.5550\n",
      "Epoch 43/150\n",
      "25/25 [==============================] - 0s 11ms/step - loss: 0.8989 - accuracy: 0.6608 - val_loss: 1.2855 - val_accuracy: 0.5750\n",
      "Epoch 44/150\n",
      "25/25 [==============================] - 0s 11ms/step - loss: 0.9276 - accuracy: 0.6758 - val_loss: 1.2417 - val_accuracy: 0.5500\n",
      "Epoch 45/150\n",
      "25/25 [==============================] - 0s 11ms/step - loss: 0.9221 - accuracy: 0.6771 - val_loss: 1.2474 - val_accuracy: 0.5800\n",
      "Epoch 46/150\n",
      "25/25 [==============================] - 0s 11ms/step - loss: 0.8781 - accuracy: 0.6796 - val_loss: 1.2983 - val_accuracy: 0.5350\n",
      "Epoch 47/150\n",
      "25/25 [==============================] - 0s 11ms/step - loss: 0.8707 - accuracy: 0.7034 - val_loss: 1.2079 - val_accuracy: 0.5950\n",
      "Epoch 48/150\n",
      "25/25 [==============================] - 0s 11ms/step - loss: 0.8292 - accuracy: 0.7284 - val_loss: 1.1336 - val_accuracy: 0.6200\n",
      "Epoch 49/150\n",
      "25/25 [==============================] - 0s 11ms/step - loss: 0.8748 - accuracy: 0.6846 - val_loss: 1.4568 - val_accuracy: 0.5050\n",
      "Epoch 50/150\n",
      "25/25 [==============================] - 0s 11ms/step - loss: 0.8603 - accuracy: 0.6971 - val_loss: 1.2750 - val_accuracy: 0.5650\n",
      "Epoch 51/150\n",
      "25/25 [==============================] - 0s 10ms/step - loss: 0.7707 - accuracy: 0.7359 - val_loss: 1.3079 - val_accuracy: 0.5850\n",
      "Epoch 52/150\n",
      "25/25 [==============================] - 0s 11ms/step - loss: 0.7844 - accuracy: 0.7347 - val_loss: 1.2586 - val_accuracy: 0.5900\n",
      "Epoch 53/150\n",
      "25/25 [==============================] - 0s 11ms/step - loss: 0.7700 - accuracy: 0.7384 - val_loss: 1.2369 - val_accuracy: 0.5800\n",
      "Epoch 54/150\n",
      "25/25 [==============================] - 0s 11ms/step - loss: 0.7508 - accuracy: 0.7397 - val_loss: 1.3189 - val_accuracy: 0.5950\n",
      "Epoch 55/150\n",
      "25/25 [==============================] - 0s 11ms/step - loss: 0.7750 - accuracy: 0.7372 - val_loss: 1.3252 - val_accuracy: 0.5600\n",
      "Epoch 56/150\n",
      "25/25 [==============================] - 0s 10ms/step - loss: 0.7609 - accuracy: 0.7397 - val_loss: 1.2847 - val_accuracy: 0.5900\n",
      "Epoch 57/150\n",
      "25/25 [==============================] - 0s 10ms/step - loss: 0.7176 - accuracy: 0.7622 - val_loss: 1.2178 - val_accuracy: 0.6300\n",
      "Epoch 58/150\n"
     ]
    },
    {
     "name": "stdout",
     "output_type": "stream",
     "text": [
      "25/25 [==============================] - 0s 11ms/step - loss: 0.7032 - accuracy: 0.7685 - val_loss: 1.2366 - val_accuracy: 0.6000\n",
      "Epoch 59/150\n",
      "25/25 [==============================] - 0s 11ms/step - loss: 0.6162 - accuracy: 0.7835 - val_loss: 1.2686 - val_accuracy: 0.6150\n",
      "Epoch 60/150\n",
      "25/25 [==============================] - 0s 10ms/step - loss: 0.6459 - accuracy: 0.7985 - val_loss: 1.4300 - val_accuracy: 0.5900\n",
      "Epoch 61/150\n",
      "25/25 [==============================] - 0s 10ms/step - loss: 0.6953 - accuracy: 0.7722 - val_loss: 1.5495 - val_accuracy: 0.6050\n",
      "Epoch 62/150\n",
      "25/25 [==============================] - 0s 10ms/step - loss: 0.6956 - accuracy: 0.7697 - val_loss: 1.2881 - val_accuracy: 0.6000\n",
      "Epoch 63/150\n",
      "25/25 [==============================] - 0s 10ms/step - loss: 0.5872 - accuracy: 0.8010 - val_loss: 1.1984 - val_accuracy: 0.6200\n",
      "Epoch 64/150\n",
      "25/25 [==============================] - 0s 10ms/step - loss: 0.5628 - accuracy: 0.8085 - val_loss: 1.3232 - val_accuracy: 0.6100\n",
      "Epoch 65/150\n",
      "25/25 [==============================] - 0s 10ms/step - loss: 0.6105 - accuracy: 0.7860 - val_loss: 1.3527 - val_accuracy: 0.6000\n",
      "Epoch 66/150\n",
      "25/25 [==============================] - 0s 10ms/step - loss: 0.5965 - accuracy: 0.8235 - val_loss: 1.3225 - val_accuracy: 0.6100\n",
      "Epoch 67/150\n",
      "25/25 [==============================] - 0s 10ms/step - loss: 0.6268 - accuracy: 0.8110 - val_loss: 1.3710 - val_accuracy: 0.6050\n",
      "Epoch 68/150\n",
      "25/25 [==============================] - 0s 11ms/step - loss: 0.5856 - accuracy: 0.8173 - val_loss: 1.4022 - val_accuracy: 0.6150\n",
      "Epoch 69/150\n",
      "25/25 [==============================] - 0s 11ms/step - loss: 0.5358 - accuracy: 0.8360 - val_loss: 1.3978 - val_accuracy: 0.5900\n",
      "Epoch 70/150\n",
      "25/25 [==============================] - 0s 11ms/step - loss: 0.6408 - accuracy: 0.8098 - val_loss: 1.2875 - val_accuracy: 0.6350\n",
      "Epoch 71/150\n",
      "25/25 [==============================] - 0s 11ms/step - loss: 0.5222 - accuracy: 0.8335 - val_loss: 1.3995 - val_accuracy: 0.6150\n",
      "Epoch 72/150\n",
      "25/25 [==============================] - 0s 11ms/step - loss: 0.4517 - accuracy: 0.8523 - val_loss: 1.5653 - val_accuracy: 0.6250\n",
      "Epoch 73/150\n",
      "25/25 [==============================] - 0s 11ms/step - loss: 0.4956 - accuracy: 0.8398 - val_loss: 1.3782 - val_accuracy: 0.6500\n",
      "Epoch 74/150\n",
      "25/25 [==============================] - 0s 11ms/step - loss: 0.5147 - accuracy: 0.8436 - val_loss: 1.4065 - val_accuracy: 0.6000\n",
      "Epoch 75/150\n",
      "25/25 [==============================] - 0s 10ms/step - loss: 0.5148 - accuracy: 0.8248 - val_loss: 1.2514 - val_accuracy: 0.6150\n",
      "Epoch 76/150\n",
      "25/25 [==============================] - 0s 10ms/step - loss: 0.5213 - accuracy: 0.8511 - val_loss: 1.2764 - val_accuracy: 0.6300\n",
      "Epoch 77/150\n",
      "25/25 [==============================] - 0s 11ms/step - loss: 0.4815 - accuracy: 0.8523 - val_loss: 1.3859 - val_accuracy: 0.6250\n",
      "Epoch 78/150\n",
      "25/25 [==============================] - 0s 11ms/step - loss: 0.4741 - accuracy: 0.8498 - val_loss: 1.7129 - val_accuracy: 0.5950\n",
      "Epoch 79/150\n",
      "25/25 [==============================] - 0s 10ms/step - loss: 0.5262 - accuracy: 0.8285 - val_loss: 1.6077 - val_accuracy: 0.6100\n",
      "Epoch 80/150\n",
      "25/25 [==============================] - 0s 10ms/step - loss: 0.4938 - accuracy: 0.8511 - val_loss: 1.4167 - val_accuracy: 0.6350\n",
      "Epoch 81/150\n",
      "25/25 [==============================] - 0s 10ms/step - loss: 0.3766 - accuracy: 0.8824 - val_loss: 1.4283 - val_accuracy: 0.6700\n",
      "Epoch 82/150\n",
      "25/25 [==============================] - 0s 11ms/step - loss: 0.4526 - accuracy: 0.8636 - val_loss: 1.4001 - val_accuracy: 0.6300\n",
      "Epoch 83/150\n",
      "25/25 [==============================] - 0s 10ms/step - loss: 0.3971 - accuracy: 0.8886 - val_loss: 1.5220 - val_accuracy: 0.6350\n",
      "Epoch 84/150\n",
      "25/25 [==============================] - 0s 11ms/step - loss: 0.4381 - accuracy: 0.8723 - val_loss: 1.4740 - val_accuracy: 0.6300\n",
      "Epoch 85/150\n",
      "25/25 [==============================] - 0s 10ms/step - loss: 0.3887 - accuracy: 0.8924 - val_loss: 1.6201 - val_accuracy: 0.5900\n",
      "Epoch 86/150\n",
      "25/25 [==============================] - 0s 10ms/step - loss: 0.3833 - accuracy: 0.8824 - val_loss: 1.5633 - val_accuracy: 0.6750\n",
      "Epoch 87/150\n",
      "25/25 [==============================] - 0s 11ms/step - loss: 0.4179 - accuracy: 0.8673 - val_loss: 1.6907 - val_accuracy: 0.6350\n",
      "Epoch 88/150\n",
      "25/25 [==============================] - 0s 11ms/step - loss: 0.4176 - accuracy: 0.8748 - val_loss: 1.5821 - val_accuracy: 0.6000\n",
      "Epoch 89/150\n",
      "25/25 [==============================] - 0s 11ms/step - loss: 0.3996 - accuracy: 0.8811 - val_loss: 1.6883 - val_accuracy: 0.6050\n",
      "Epoch 90/150\n",
      "25/25 [==============================] - 0s 10ms/step - loss: 0.3928 - accuracy: 0.8786 - val_loss: 1.5334 - val_accuracy: 0.6500\n",
      "Epoch 91/150\n",
      "25/25 [==============================] - 0s 10ms/step - loss: 0.3143 - accuracy: 0.8999 - val_loss: 1.5091 - val_accuracy: 0.6150\n",
      "Epoch 92/150\n",
      "25/25 [==============================] - 0s 11ms/step - loss: 0.2802 - accuracy: 0.9186 - val_loss: 1.6830 - val_accuracy: 0.6500\n",
      "Epoch 93/150\n",
      "25/25 [==============================] - 0s 11ms/step - loss: 0.2931 - accuracy: 0.9111 - val_loss: 1.6004 - val_accuracy: 0.6300\n",
      "Epoch 94/150\n",
      "25/25 [==============================] - 0s 11ms/step - loss: 0.3359 - accuracy: 0.8961 - val_loss: 1.8375 - val_accuracy: 0.6250\n",
      "Epoch 95/150\n",
      "25/25 [==============================] - 0s 11ms/step - loss: 0.3874 - accuracy: 0.8911 - val_loss: 1.5720 - val_accuracy: 0.6200\n",
      "Epoch 96/150\n",
      "25/25 [==============================] - 0s 10ms/step - loss: 0.3632 - accuracy: 0.8899 - val_loss: 1.5981 - val_accuracy: 0.6450\n",
      "Epoch 97/150\n",
      "25/25 [==============================] - 0s 11ms/step - loss: 0.3143 - accuracy: 0.9061 - val_loss: 1.6257 - val_accuracy: 0.6050\n",
      "Epoch 98/150\n",
      "25/25 [==============================] - 0s 12ms/step - loss: 0.2960 - accuracy: 0.9074 - val_loss: 1.7151 - val_accuracy: 0.6450\n",
      "Epoch 99/150\n",
      "25/25 [==============================] - 0s 11ms/step - loss: 0.2866 - accuracy: 0.9111 - val_loss: 1.7807 - val_accuracy: 0.6250\n",
      "Epoch 100/150\n",
      "25/25 [==============================] - 0s 11ms/step - loss: 0.3523 - accuracy: 0.8886 - val_loss: 1.7512 - val_accuracy: 0.6350\n",
      "Epoch 101/150\n",
      "25/25 [==============================] - 0s 10ms/step - loss: 0.2786 - accuracy: 0.9237 - val_loss: 1.7070 - val_accuracy: 0.6300\n",
      "Epoch 102/150\n",
      "25/25 [==============================] - 0s 11ms/step - loss: 0.3370 - accuracy: 0.9061 - val_loss: 1.7155 - val_accuracy: 0.6350\n",
      "Epoch 103/150\n",
      "25/25 [==============================] - 0s 11ms/step - loss: 0.2878 - accuracy: 0.9011 - val_loss: 1.6703 - val_accuracy: 0.6400\n",
      "Epoch 104/150\n",
      "25/25 [==============================] - 0s 11ms/step - loss: 0.3071 - accuracy: 0.9124 - val_loss: 1.8110 - val_accuracy: 0.5900\n",
      "Epoch 105/150\n",
      "25/25 [==============================] - 0s 11ms/step - loss: 0.3812 - accuracy: 0.8949 - val_loss: 1.5299 - val_accuracy: 0.6450\n",
      "Epoch 106/150\n",
      "25/25 [==============================] - 0s 11ms/step - loss: 0.3272 - accuracy: 0.9011 - val_loss: 1.5984 - val_accuracy: 0.6300\n",
      "Epoch 107/150\n",
      "25/25 [==============================] - 0s 11ms/step - loss: 0.3060 - accuracy: 0.9124 - val_loss: 1.6016 - val_accuracy: 0.6350\n",
      "Epoch 108/150\n",
      "25/25 [==============================] - 0s 11ms/step - loss: 0.2825 - accuracy: 0.9186 - val_loss: 1.8647 - val_accuracy: 0.5850\n",
      "Epoch 109/150\n",
      "25/25 [==============================] - 0s 11ms/step - loss: 0.3383 - accuracy: 0.9024 - val_loss: 1.4587 - val_accuracy: 0.6450\n",
      "Epoch 110/150\n",
      "25/25 [==============================] - 0s 11ms/step - loss: 0.3497 - accuracy: 0.9136 - val_loss: 1.7511 - val_accuracy: 0.6200\n",
      "Epoch 111/150\n",
      "25/25 [==============================] - 0s 11ms/step - loss: 0.3069 - accuracy: 0.9086 - val_loss: 1.3246 - val_accuracy: 0.6450\n",
      "Epoch 112/150\n",
      "25/25 [==============================] - 0s 11ms/step - loss: 0.2781 - accuracy: 0.9086 - val_loss: 1.5177 - val_accuracy: 0.6500\n",
      "Epoch 113/150\n",
      "25/25 [==============================] - 0s 11ms/step - loss: 0.1984 - accuracy: 0.9437 - val_loss: 1.7004 - val_accuracy: 0.6650\n",
      "Epoch 114/150\n",
      "25/25 [==============================] - 0s 11ms/step - loss: 0.2230 - accuracy: 0.9424 - val_loss: 1.8106 - val_accuracy: 0.6350\n",
      "Epoch 115/150\n"
     ]
    },
    {
     "name": "stdout",
     "output_type": "stream",
     "text": [
      "25/25 [==============================] - 0s 10ms/step - loss: 0.3164 - accuracy: 0.9086 - val_loss: 1.7440 - val_accuracy: 0.6100\n",
      "Epoch 116/150\n",
      "25/25 [==============================] - 0s 11ms/step - loss: 0.3939 - accuracy: 0.8936 - val_loss: 1.7314 - val_accuracy: 0.6150\n",
      "Epoch 117/150\n",
      "25/25 [==============================] - 0s 11ms/step - loss: 0.2683 - accuracy: 0.9237 - val_loss: 1.4831 - val_accuracy: 0.6600\n",
      "Epoch 118/150\n",
      "25/25 [==============================] - 0s 11ms/step - loss: 0.2645 - accuracy: 0.9149 - val_loss: 1.5872 - val_accuracy: 0.6150\n",
      "Epoch 119/150\n",
      "25/25 [==============================] - 0s 11ms/step - loss: 0.2307 - accuracy: 0.9337 - val_loss: 1.7235 - val_accuracy: 0.6250\n",
      "Epoch 120/150\n",
      "25/25 [==============================] - 0s 11ms/step - loss: 0.1964 - accuracy: 0.9424 - val_loss: 1.5933 - val_accuracy: 0.6500\n",
      "Epoch 121/150\n",
      "25/25 [==============================] - 0s 11ms/step - loss: 0.2428 - accuracy: 0.9287 - val_loss: 1.9412 - val_accuracy: 0.6300\n",
      "Epoch 122/150\n",
      "25/25 [==============================] - 0s 10ms/step - loss: 0.2661 - accuracy: 0.9274 - val_loss: 1.8037 - val_accuracy: 0.6200\n",
      "Epoch 123/150\n",
      "25/25 [==============================] - 0s 11ms/step - loss: 0.2844 - accuracy: 0.9174 - val_loss: 1.9200 - val_accuracy: 0.6100\n",
      "Epoch 124/150\n",
      "25/25 [==============================] - 0s 11ms/step - loss: 0.1685 - accuracy: 0.9474 - val_loss: 1.9050 - val_accuracy: 0.6650\n",
      "Epoch 125/150\n",
      "25/25 [==============================] - 0s 11ms/step - loss: 0.2246 - accuracy: 0.9362 - val_loss: 1.9358 - val_accuracy: 0.6350\n",
      "Epoch 126/150\n",
      "25/25 [==============================] - 0s 11ms/step - loss: 0.1987 - accuracy: 0.9362 - val_loss: 1.9876 - val_accuracy: 0.6100\n",
      "Epoch 127/150\n",
      "25/25 [==============================] - 0s 11ms/step - loss: 0.2736 - accuracy: 0.9312 - val_loss: 1.9407 - val_accuracy: 0.6550\n",
      "Epoch 128/150\n",
      "25/25 [==============================] - 0s 11ms/step - loss: 0.2191 - accuracy: 0.9437 - val_loss: 1.7191 - val_accuracy: 0.6450\n",
      "Epoch 129/150\n",
      "25/25 [==============================] - 0s 11ms/step - loss: 0.2626 - accuracy: 0.9249 - val_loss: 1.7172 - val_accuracy: 0.6550\n",
      "Epoch 130/150\n",
      "25/25 [==============================] - 0s 11ms/step - loss: 0.1927 - accuracy: 0.9474 - val_loss: 1.9025 - val_accuracy: 0.6150\n",
      "Epoch 131/150\n",
      "25/25 [==============================] - 0s 10ms/step - loss: 0.1677 - accuracy: 0.9499 - val_loss: 2.0414 - val_accuracy: 0.6150\n",
      "Epoch 132/150\n",
      "25/25 [==============================] - 0s 10ms/step - loss: 0.1837 - accuracy: 0.9374 - val_loss: 2.1050 - val_accuracy: 0.6150\n",
      "Epoch 133/150\n",
      "25/25 [==============================] - 0s 11ms/step - loss: 0.2272 - accuracy: 0.9387 - val_loss: 2.0947 - val_accuracy: 0.5950\n",
      "Epoch 134/150\n",
      "25/25 [==============================] - 0s 10ms/step - loss: 0.1999 - accuracy: 0.9374 - val_loss: 2.0429 - val_accuracy: 0.6050\n",
      "Epoch 135/150\n",
      "25/25 [==============================] - 0s 11ms/step - loss: 0.2134 - accuracy: 0.9324 - val_loss: 2.0112 - val_accuracy: 0.6550\n",
      "Epoch 136/150\n",
      "25/25 [==============================] - 0s 10ms/step - loss: 0.2155 - accuracy: 0.9399 - val_loss: 1.9070 - val_accuracy: 0.6650\n",
      "Epoch 137/150\n",
      "25/25 [==============================] - 0s 10ms/step - loss: 0.1826 - accuracy: 0.9512 - val_loss: 1.9584 - val_accuracy: 0.6550\n",
      "Epoch 138/150\n",
      "25/25 [==============================] - 0s 10ms/step - loss: 0.1981 - accuracy: 0.9412 - val_loss: 1.8459 - val_accuracy: 0.6300\n",
      "Epoch 139/150\n",
      "25/25 [==============================] - 0s 9ms/step - loss: 0.2980 - accuracy: 0.9299 - val_loss: 2.2150 - val_accuracy: 0.6250\n",
      "Epoch 140/150\n",
      "25/25 [==============================] - 0s 10ms/step - loss: 0.2629 - accuracy: 0.9224 - val_loss: 1.7124 - val_accuracy: 0.6450\n",
      "Epoch 141/150\n",
      "25/25 [==============================] - 0s 11ms/step - loss: 0.2151 - accuracy: 0.9337 - val_loss: 1.6848 - val_accuracy: 0.6350\n",
      "Epoch 142/150\n",
      "25/25 [==============================] - 0s 10ms/step - loss: 0.1517 - accuracy: 0.9512 - val_loss: 1.6922 - val_accuracy: 0.6600\n",
      "Epoch 143/150\n",
      "25/25 [==============================] - 0s 10ms/step - loss: 0.1060 - accuracy: 0.9662 - val_loss: 1.9365 - val_accuracy: 0.6450\n",
      "Epoch 144/150\n",
      "25/25 [==============================] - 0s 10ms/step - loss: 0.2211 - accuracy: 0.9499 - val_loss: 1.7056 - val_accuracy: 0.6200\n",
      "Epoch 145/150\n",
      "25/25 [==============================] - 0s 10ms/step - loss: 0.2197 - accuracy: 0.9412 - val_loss: 1.7504 - val_accuracy: 0.6600\n",
      "Epoch 146/150\n",
      "25/25 [==============================] - 0s 11ms/step - loss: 0.1219 - accuracy: 0.9662 - val_loss: 1.9226 - val_accuracy: 0.6250\n",
      "Epoch 147/150\n",
      "25/25 [==============================] - 0s 10ms/step - loss: 0.1542 - accuracy: 0.9599 - val_loss: 2.0848 - val_accuracy: 0.6500\n",
      "Epoch 148/150\n",
      "25/25 [==============================] - 0s 11ms/step - loss: 0.2263 - accuracy: 0.9449 - val_loss: 1.9116 - val_accuracy: 0.6300\n",
      "Epoch 149/150\n",
      "25/25 [==============================] - 0s 10ms/step - loss: 0.2010 - accuracy: 0.9412 - val_loss: 1.7399 - val_accuracy: 0.6350\n",
      "Epoch 150/150\n",
      "25/25 [==============================] - 0s 10ms/step - loss: 0.1598 - accuracy: 0.9637 - val_loss: 1.8450 - val_accuracy: 0.6500\n",
      "Training completed in time:  0:00:41.322978\n"
     ]
    }
   ],
   "source": [
    "## Trianing my model\n",
    "from tensorflow.keras.callbacks import ModelCheckpoint\n",
    "from datetime import datetime \n",
    "\n",
    "num_epochs = 150\n",
    "num_batch_size = 32\n",
    "\n",
    "#checkpointer = ModelCheckpoint(filepath=f'saved_models/audio_classification_{current_time}.hdf5', \n",
    "                               #verbose=1, save_best_only=True)\n",
    "start = datetime.now()\n",
    "\n",
    "history = model.fit(X_train, Y_train, batch_size=num_batch_size, epochs = num_epochs, validation_data=(X_test, Y_test), verbose=1)\n",
    "\n",
    "\n",
    "duration = datetime.now() - start\n",
    "print(\"Training completed in time: \", duration)"
   ]
  },
  {
   "cell_type": "code",
   "execution_count": 67,
   "id": "f8cd02f1",
   "metadata": {},
   "outputs": [
    {
     "data": {
      "text/plain": [
       "[1.844961404800415, 0.6499999761581421]"
      ]
     },
     "execution_count": 67,
     "metadata": {},
     "output_type": "execute_result"
    }
   ],
   "source": [
    "model.evaluate( X_test, Y_test, verbose = 0)"
   ]
  },
  {
   "cell_type": "code",
   "execution_count": 68,
   "id": "b31b7fcb",
   "metadata": {},
   "outputs": [
    {
     "data": {
      "image/png": "[encoded data removed]",
      "text/plain": [
       "<Figure size 864x432 with 1 Axes>"
      ]
     },
     "metadata": {
      "needs_background": "light"
     },
     "output_type": "display_data"
    }
   ],
   "source": [
    "pd.DataFrame(history.history).plot( figsize = (12,6))\n",
    "plt.show()"
   ]
  },
  {
   "cell_type": "code",
   "execution_count": 71,
   "id": "3ca7adbc",
   "metadata": {},
   "outputs": [
    {
     "name": "stdout",
     "output_type": "stream",
     "text": [
      "[ 3.6384399e+00  1.0475620e+02 -8.3301294e-01  5.5920498e+01\n",
      " -2.9229420e+01  3.1247389e+01 -1.4189062e+01  2.0214333e+01\n",
      " -8.2728205e+00  1.5177011e+01 -1.4592086e+01  1.5659341e+01\n",
      " -1.2991375e+01  1.5278264e+01 -6.9236770e+00  9.8623028e+00\n",
      " -6.4960966e+00  4.8992133e+00 -7.7894014e-01  6.4577398e+00\n",
      " -5.7189651e+00  2.6487837e+00 -2.0133142e+00  1.2605941e+00\n",
      "  9.8692536e-01  1.4531208e+00 -2.9697633e+00  3.3619788e-01\n",
      " -1.1125596e+00  1.0056968e+00 -3.2323089e+00 -2.0674262e+00\n",
      " -3.3654096e+00 -4.5645242e+00 -8.9490843e-01 -2.2216096e+00\n",
      " -2.1708629e+00 -1.6652519e+00 -9.2730343e-02 -1.0707006e-01]\n",
      "[[ 3.6384399e+00  1.0475620e+02 -8.3301294e-01  5.5920498e+01\n",
      "  -2.9229420e+01  3.1247389e+01 -1.4189062e+01  2.0214333e+01\n",
      "  -8.2728205e+00  1.5177011e+01 -1.4592086e+01  1.5659341e+01\n",
      "  -1.2991375e+01  1.5278264e+01 -6.9236770e+00  9.8623028e+00\n",
      "  -6.4960966e+00  4.8992133e+00 -7.7894014e-01  6.4577398e+00\n",
      "  -5.7189651e+00  2.6487837e+00 -2.0133142e+00  1.2605941e+00\n",
      "   9.8692536e-01  1.4531208e+00 -2.9697633e+00  3.3619788e-01\n",
      "  -1.1125596e+00  1.0056968e+00 -3.2323089e+00 -2.0674262e+00\n",
      "  -3.3654096e+00 -4.5645242e+00 -8.9490843e-01 -2.2216096e+00\n",
      "  -2.1708629e+00 -1.6652519e+00 -9.2730343e-02 -1.0707006e-01]]\n",
      "(1, 40)\n",
      "1/1 [==============================] - 0s 16ms/step\n",
      "[6]\n"
     ]
    },
    {
     "data": {
      "text/plain": [
       "array(['metal'], dtype='<U9')"
      ]
     },
     "execution_count": 71,
     "metadata": {},
     "output_type": "execute_result"
    }
   ],
   "source": [
    "filename=\"Data\\genres_original\\metal\\metal.00009.wav\"\n",
    "audio, sample_rate = librosa.load(filename, res_type='kaiser_fast') \n",
    "mfccs_features = librosa.feature.mfcc(y=audio, sr=sample_rate, n_mfcc=40)\n",
    "mfccs_scaled_features = np.mean(mfccs_features.T,axis=0)\n",
    "\n",
    "print(mfccs_scaled_features)\n",
    "mfccs_scaled_features=mfccs_scaled_features.reshape(1,-1)\n",
    "print(mfccs_scaled_features)\n",
    "print(mfccs_scaled_features.shape)\n",
    "predicted_label = np.argmax(model.predict(mfccs_scaled_features), axis=-1)\n",
    "print(predicted_label)\n",
    "prediction_class = le.inverse_transform(predicted_label) \n",
    "prediction_class"
   ]
  }
 ],
 "metadata": {
  "kernelspec": {
   "display_name": "Python 3 (ipykernel)",
   "language": "python",
   "name": "python3"
  },
  "language_info": {
   "codemirror_mode": {
    "name": "ipython",
    "version": 3
   },
   "file_extension": ".py",
   "mimetype": "text/x-python",
   "name": "python",
   "nbconvert_exporter": "python",
   "pygments_lexer": "ipython3",
   "version": "3.9.12"
  }
 },
 "nbformat": 4,
 "nbformat_minor": 5
}
